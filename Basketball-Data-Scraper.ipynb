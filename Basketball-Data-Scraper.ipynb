{
 "cells": [
  {
   "cell_type": "code",
   "execution_count": 60,
   "metadata": {},
   "outputs": [],
   "source": [
    "import numpy as np\n",
    "import pandas as pd\n",
    "from bs4 import BeautifulSoup, SoupStrainer\n",
    "import sys\n",
    "import string\n",
    "import requests\n",
    "import time"
   ]
  },
  {
   "cell_type": "code",
   "execution_count": 61,
   "metadata": {},
   "outputs": [],
   "source": [
    "def player_info():\n",
    "    players = []\n",
    "    base_url = \"http://www.basketball-reference.com/players/\"\n",
    "    \n",
    "    for letter in string.ascii_lowercase:\n",
    "        page = requests.get(base_url+letter)\n",
    "        soup = BeautifulSoup(page.text,features = \"lxml\")\n",
    "        table = soup.find('tbody')\n",
    "        \n",
    "        if table:\n",
    "            for row in table.findAll('tr'):\n",
    "                player_url = row.find('a')\n",
    "                player_name = player_url.text\n",
    "                player_page = player_url['href']\n",
    "                cells = row.findAll('td')\n",
    "                player_start_year = cells[0].text\n",
    "                player_end_year = cells[1].text\n",
    "                player_pos = cells[2].text\n",
    "                player_height = cells[3].text\n",
    "                player_weight =  cells[4].text\n",
    "                player_bday = cells[5].text\n",
    "                player_college = cells[6].text\n",
    "                \n",
    "                player_entry = {\n",
    "                                    'url': player_page,\n",
    "                                    'name': player_name,\n",
    "                                    \"from\": player_start_year,\n",
    "                                    \"to\": player_end_year,\n",
    "                                    \"pos\": player_pos,\n",
    "                                    \"height\": player_height,\n",
    "                                    \"weight\": player_weight,\n",
    "                                    \"birthday\": player_bday,\n",
    "                                    \"college\": player_college\n",
    "                                }\n",
    "              \n",
    "                players.append(player_entry)\n",
    "    return pd.DataFrame(players)"
   ]
  },
  {
   "cell_type": "code",
   "execution_count": 62,
   "metadata": {},
   "outputs": [],
   "source": [
    "get_basic_player_info = player_info()"
   ]
  },
  {
   "cell_type": "code",
   "execution_count": 90,
   "metadata": {},
   "outputs": [],
   "source": [
    "def player_detailed_info(url):\n",
    "    personal = SoupStrainer('p')\n",
    "    page_request = requests.get(\"https://www.basketball-reference.com\"+url)\n",
    "    soup = BeautifulSoup(page_request.text, features = \"lxml\", parse_only = personal)\n",
    "    p = soup.findAll('p') \n",
    "    \n",
    "    shooting_hand = None\n",
    "    birth_place = None\n",
    "    high_school = None\n",
    "    pos_start = None\n",
    "    for prow in p:\n",
    "        if 'Shoots' in prow.text:\n",
    "            s = prow.text.replace('\\n','').split(u\"\\u25AA\")\n",
    "            print(s[0])\n",
    "            if len(s)>1:\n",
    "                shooting_hand = s[1].split(':')[1]\n",
    "                "
   ]
  },
  {
   "cell_type": "code",
   "execution_count": 91,
   "metadata": {},
   "outputs": [
    {
     "name": "stdout",
     "output_type": "stream",
     "text": [
      "  Position:    Center and Power Forward    \n"
     ]
    },
    {
     "data": {
      "text/plain": [
       "'/players/a/abdulza01.html'"
      ]
     },
     "execution_count": 91,
     "metadata": {},
     "output_type": "execute_result"
    }
   ],
   "source": [
    "player_detailed_info(get_basic_player_info['url'][1])\n",
    "get_basic_player_info['url'][1]"
   ]
  },
  {
   "cell_type": "code",
   "execution_count": null,
   "metadata": {},
   "outputs": [],
   "source": []
  }
 ],
 "metadata": {
  "kernelspec": {
   "display_name": "Python 3",
   "language": "python",
   "name": "python3"
  },
  "language_info": {
   "codemirror_mode": {
    "name": "ipython",
    "version": 3
   },
   "file_extension": ".py",
   "mimetype": "text/x-python",
   "name": "python",
   "nbconvert_exporter": "python",
   "pygments_lexer": "ipython3",
   "version": "3.6.5"
  }
 },
 "nbformat": 4,
 "nbformat_minor": 2
}
